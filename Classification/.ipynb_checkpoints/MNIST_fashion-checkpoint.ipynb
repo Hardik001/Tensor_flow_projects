{
 "cells": [
  {
   "cell_type": "code",
   "execution_count": 6,
   "metadata": {
    "colab": {
     "base_uri": "https://localhost:8080/",
     "height": 323
    },
    "colab_type": "code",
    "id": "9rvXQGAA0ssC",
    "outputId": "8663304d-09c0-4054-a270-e641cf0c26ea"
   },
   "outputs": [
    {
     "name": "stdout",
     "output_type": "stream",
     "text": [
      "Epoch 1/10\n",
      "60000/60000 [==============================] - 6s 107us/sample - loss: 0.2556 - acc: 0.9268\n",
      "Epoch 2/10\n",
      "60000/60000 [==============================] - 6s 103us/sample - loss: 0.1116 - acc: 0.9670\n",
      "Epoch 3/10\n",
      "60000/60000 [==============================] - 6s 107us/sample - loss: 0.0756 - acc: 0.9776\n",
      "Epoch 4/10\n",
      "60000/60000 [==============================] - 6s 103us/sample - loss: 0.0565 - acc: 0.9826\n",
      "Epoch 5/10\n",
      "60000/60000 [==============================] - 6s 102us/sample - loss: 0.0443 - acc: 0.9865\n",
      "Epoch 6/10\n",
      "60000/60000 [==============================] - 6s 101us/sample - loss: 0.0339 - acc: 0.9899\n",
      "Epoch 7/10\n",
      "59552/60000 [============================>.] - ETA: 0s - loss: 0.0276 - acc: 0.9915\n",
      "Reached 99% accuracy so cancelling training!\n",
      "60000/60000 [==============================] - 6s 100us/sample - loss: 0.0275 - acc: 0.9915\n",
      "10000/10000 [==============================] - 0s 44us/sample - loss: 0.0832 - acc: 0.9753\n"
     ]
    },
    {
     "data": {
      "text/plain": [
       "[0.08324084698283987, 0.9753]"
      ]
     },
     "execution_count": 6,
     "metadata": {
      "tags": []
     },
     "output_type": "execute_result"
    }
   ],
   "source": [
    "#the following code has been executed on google collaboratory in gpu mode\n",
    "#used high level API keras over Tensorflow \n",
    "import tensorflow as tf\n",
    "mnist = tf.keras.datasets.mnist\n",
    "\n",
    "(x_train, y_train),(x_test, y_test) = mnist.load_data()\n",
    "\n",
    "class myCallback(tf.keras.callbacks.Callback):     #for stopping training if the required accuracy has been reached\n",
    "  def on_epoch_end(self,epoch,logs={}):\n",
    "    if(logs.get('acc')>0.99):\n",
    "       print(\"\\nReached 99% accuracy so cancelling training!\")\n",
    "       self.model.stop_training=True\n",
    "mnist=tf.keras.datasets.mnist\n",
    "callbacks=myCallback()\n",
    "(x_train, y_train),(x_test, y_test) = mnist.load_data()\n",
    "x_train, x_test = x_train / 255.0, x_test / 255.0\n",
    "\n",
    "\n",
    "model = tf.keras.models.Sequential([\n",
    "    tf.keras.layers.Flatten(input_shape=(28,28)),\n",
    "    tf.keras.layers.Dense(128,activation=tf.nn.relu),\n",
    "    tf.keras.layers.Dense(10,activation=tf.nn.softmax)\n",
    "\n",
    "\n",
    "])\n",
    "\n",
    "model.compile(optimizer='adam',\n",
    "              loss='sparse_categorical_crossentropy',\n",
    "              metrics=['accuracy'])\n",
    "model.fit(x_train, y_train, epochs=10, callbacks=[callbacks])\n",
    "model.evaluate(x_test,y_test)\n",
    "\n"
   ]
  },
  {
   "cell_type": "code",
   "execution_count": 0,
   "metadata": {
    "colab": {},
    "colab_type": "code",
    "id": "zV34y-k-JXD4"
   },
   "outputs": [],
   "source": []
  }
 ],
 "metadata": {
  "colab": {
   "collapsed_sections": [],
   "name": "Exercise2-Question.ipynb",
   "provenance": [],
   "version": "0.3.2"
  },
  "kernelspec": {
   "display_name": "Python 3",
   "language": "python",
   "name": "python3"
  },
  "language_info": {
   "codemirror_mode": {
    "name": "ipython",
    "version": 3
   },
   "file_extension": ".py",
   "mimetype": "text/x-python",
   "name": "python",
   "nbconvert_exporter": "python",
   "pygments_lexer": "ipython3",
   "version": "3.6.5"
  }
 },
 "nbformat": 4,
 "nbformat_minor": 1
}
