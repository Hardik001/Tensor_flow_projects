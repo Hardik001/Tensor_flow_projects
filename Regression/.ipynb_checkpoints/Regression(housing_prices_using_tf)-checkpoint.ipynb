{
 "cells": [
  {
   "cell_type": "code",
   "execution_count": 0,
   "metadata": {
    "colab": {},
    "colab_type": "code",
    "id": "EdO4o2Af2uKZ"
   },
   "outputs": [],
   "source": [
    "import tensorflow as tf"
   ]
  },
  {
   "cell_type": "code",
   "execution_count": 37,
   "metadata": {
    "colab": {
     "base_uri": "https://localhost:8080/",
     "height": 221
    },
    "colab_type": "code",
    "id": "6Id4RNt4K6oH",
    "outputId": "bd243fa6-b68b-4ebf-ca57-c73e129cefb6"
   },
   "outputs": [
    {
     "name": "stdout",
     "output_type": "stream",
     "text": [
      "20640 8\n",
      "['MedInc', 'HouseAge', 'AveRooms', 'AveBedrms', 'Population', 'AveOccup', 'Latitude', 'Longitude']\n",
      "(9, 1)\n",
      "[[-3.71037292e+01]\n",
      " [ 4.36282694e-01]\n",
      " [ 9.40542948e-03]\n",
      " [-1.06901854e-01]\n",
      " [ 6.43611908e-01]\n",
      " [-4.06625077e-06]\n",
      " [-3.78273334e-03]\n",
      " [-4.23094332e-01]\n",
      " [-4.36462164e-01]]\n"
     ]
    }
   ],
   "source": [
    "#Linear Regression with Tensorflow using Normal Equation method\n",
    "import numpy as np\n",
    "from sklearn.datasets import fetch_california_housing\n",
    "\n",
    "housing=fetch_california_housing()\n",
    "m,n=housing.data.shape\n",
    "print(m,n)\n",
    "housing_data_plus_bias=np.c_[np.ones((m,1)),housing.data]\n",
    "X=tf.constant(housing_data_plus_bias,dtype=tf.float32,name=\"X\")\n",
    "y=tf.constant(housing.target.reshape(-1,1),dtype=tf.float32,name=\"y\")\n",
    "XT=tf.transpose(X)\n",
    "theta=tf.matmul(tf.matmul(tf.matrix_inverse(tf.matmul(XT,X)),XT),y)\n",
    "\n",
    "with tf.Session() as sess:\n",
    "  theta_value=theta.eval()\n",
    "print(housing.feature_names)\n",
    "print(theta_value.shape)\n",
    "print(theta_value)\n",
    "\n"
   ]
  },
  {
   "cell_type": "code",
   "execution_count": 50,
   "metadata": {
    "colab": {
     "base_uri": "https://localhost:8080/",
     "height": 187
    },
    "colab_type": "code",
    "id": "2ALd0F6yM4GR",
    "outputId": "0dcf2a92-2450-4097-ee57-28410ce8ff15"
   },
   "outputs": [
    {
     "name": "stdout",
     "output_type": "stream",
     "text": [
      "Epoch 0 MSE= 3.4363153\n",
      "Epoch 100 MSE= 0.7073841\n",
      "Epoch 200 MSE= 0.6236461\n",
      "Epoch 300 MSE= 0.59517443\n",
      "Epoch 400 MSE= 0.5754633\n",
      "Epoch 500 MSE= 0.5612686\n",
      "Epoch 600 MSE= 0.55102175\n",
      "Epoch 700 MSE= 0.5436224\n",
      "Epoch 800 MSE= 0.5382781\n",
      "Epoch 900 MSE= 0.53441733\n"
     ]
    }
   ],
   "source": [
    "#Linear regression with Tensorflow using Gradient Descent(computing gradients manually)\n",
    "from sklearn.preprocessing import StandardScaler\n",
    "n_epochs=1000\n",
    "learning_rate=0.01\n",
    "scaler = StandardScaler()\n",
    "scaled_housing_data = scaler.fit_transform(housing.data)\n",
    "scaled_housing_data_plus_bias = np.c_[np.ones((m, 1)), scaled_housing_data]\n",
    "\n",
    "X=tf.constant(scaled_housing_data_plus_bias,dtype=tf.float32,name=\"X\")\n",
    "y=tf.constant(housing.target.reshape(-1,1),dtype=tf.float32,name=\"y\")\n",
    "theta=tf.Variable(tf.random_uniform([n+1,1],-1.0,1.0),name=\"theta\")\n",
    "y_pred=tf.matmul(X,theta,name=\"y_pred\")\n",
    "error=y_pred-y\n",
    "mse=tf.reduce_mean(tf.square(error,name=\"mse\"))\n",
    "gradients=2/m *tf.matmul(tf.transpose(X),error)\n",
    "training_op=tf.assign(theta,theta-learning_rate*gradients)\n",
    "init=tf.global_variables_initializer()\n",
    "\n",
    "with tf.Session() as sess:\n",
    "  sess.run(init)\n",
    "  for epoch in range(n_epochs):\n",
    "    if epoch %100==0:\n",
    "      print(\"Epoch\", epoch,\"MSE=\", mse.eval())\n",
    "    sess.run(training_op)\n",
    "  best_theta=theta.eval()\n",
    "    \n",
    "  \n",
    "    "
   ]
  },
  {
   "cell_type": "code",
   "execution_count": 53,
   "metadata": {
    "colab": {
     "base_uri": "https://localhost:8080/",
     "height": 187
    },
    "colab_type": "code",
    "id": "6WzvDotRbuPn",
    "outputId": "ebc3da86-d3b7-4dbe-b357-7ec9dee9e3dc"
   },
   "outputs": [
    {
     "name": "stdout",
     "output_type": "stream",
     "text": [
      "[[ 2.0685523 ]\n",
      " [ 0.76441514]\n",
      " [ 0.13989037]\n",
      " [-0.07993136]\n",
      " [ 0.12478202]\n",
      " [ 0.00403367]\n",
      " [-0.03972425]\n",
      " [-0.8070241 ]\n",
      " [-0.76707166]]\n",
      "(9, 1)\n"
     ]
    }
   ],
   "source": [
    "print((best_theta))\n",
    "print((best_theta.shape))"
   ]
  },
  {
   "cell_type": "code",
   "execution_count": 59,
   "metadata": {
    "colab": {
     "base_uri": "https://localhost:8080/",
     "height": 187
    },
    "colab_type": "code",
    "id": "8-ORrMdoc8PH",
    "outputId": "bcd77aec-ab38-4cbf-b2df-a28dfa500e19"
   },
   "outputs": [
    {
     "name": "stdout",
     "output_type": "stream",
     "text": [
      "Epoch 0 MSE= 4.696749\n",
      "Epoch 100 MSE= 0.69233066\n",
      "Epoch 200 MSE= 0.59742063\n",
      "Epoch 300 MSE= 0.57523876\n",
      "Epoch 400 MSE= 0.56094795\n",
      "Epoch 500 MSE= 0.5507349\n",
      "Epoch 600 MSE= 0.54337406\n",
      "Epoch 700 MSE= 0.53806484\n",
      "Epoch 800 MSE= 0.5342351\n",
      "Epoch 900 MSE= 0.5314727\n"
     ]
    }
   ],
   "source": [
    "#Linear Regression with Tensorflow using Gradient descent(using autodiff feature)\n",
    "from sklearn.preprocessing import StandardScaler\n",
    "n_epochs=1000\n",
    "learning_rate=0.01\n",
    "scaler = StandardScaler()\n",
    "scaled_housing_data = scaler.fit_transform(housing.data)\n",
    "scaled_housing_data_plus_bias = np.c_[np.ones((m, 1)), scaled_housing_data]\n",
    "\n",
    "X=tf.constant(scaled_housing_data_plus_bias,dtype=tf.float32,name=\"X\")\n",
    "y=tf.constant(housing.target.reshape(-1,1),dtype=tf.float32,name=\"y\")\n",
    "theta=tf.Variable(tf.random_uniform([n+1,1],-1.0,1.0),name=\"theta\")\n",
    "y_pred=tf.matmul(X,theta,name=\"y_pred\")\n",
    "error=y_pred-y\n",
    "mse=tf.reduce_mean(tf.square(error,name=\"mse\"))\n",
    "gradients = tf.gradients(mse, [theta])[0] #only this line is changed\n",
    "training_op=tf.assign(theta,theta-learning_rate*gradients)\n",
    "init=tf.global_variables_initializer()\n",
    "\n",
    "with tf.Session() as sess:\n",
    "  sess.run(init)\n",
    "  for epoch in range(n_epochs):\n",
    "    if epoch %100==0:\n",
    "      print(\"Epoch\", epoch,\"MSE=\", mse.eval())\n",
    "    sess.run(training_op)\n",
    "  best_theta=theta.eval()\n",
    "    \n",
    "  "
   ]
  },
  {
   "cell_type": "code",
   "execution_count": 55,
   "metadata": {
    "colab": {
     "base_uri": "https://localhost:8080/",
     "height": 170
    },
    "colab_type": "code",
    "id": "pMDcm2dXl-8T",
    "outputId": "4f7a821d-7eb8-45b9-b1ff-b3e3e0ec4a70"
   },
   "outputs": [
    {
     "name": "stdout",
     "output_type": "stream",
     "text": [
      "[[-3.71037292e+01]\n",
      " [ 4.36282694e-01]\n",
      " [ 9.40542948e-03]\n",
      " [-1.06901854e-01]\n",
      " [ 6.43611908e-01]\n",
      " [-4.06625077e-06]\n",
      " [-3.78273334e-03]\n",
      " [-4.23094332e-01]\n",
      " [-4.36462164e-01]]\n"
     ]
    }
   ],
   "source": [
    "print(theta_value)"
   ]
  },
  {
   "cell_type": "code",
   "execution_count": 56,
   "metadata": {
    "colab": {
     "base_uri": "https://localhost:8080/",
     "height": 187
    },
    "colab_type": "code",
    "id": "Ys5d1TxbmChX",
    "outputId": "495aa40b-b452-4384-a00a-2562461eeaa6"
   },
   "outputs": [
    {
     "name": "stdout",
     "output_type": "stream",
     "text": [
      "Epoch 0 MSE= 8.716202\n",
      "Epoch 100 MSE= 0.7262443\n",
      "Epoch 200 MSE= 0.5657829\n",
      "Epoch 300 MSE= 0.55504775\n",
      "Epoch 400 MSE= 0.5493943\n",
      "Epoch 500 MSE= 0.54492104\n",
      "Epoch 600 MSE= 0.5412801\n",
      "Epoch 700 MSE= 0.53830403\n",
      "Epoch 800 MSE= 0.5358655\n",
      "Epoch 900 MSE= 0.5338635\n"
     ]
    }
   ],
   "source": [
    "#Using Gradient Descent Optimizer\n",
    "\n",
    "from sklearn.preprocessing import StandardScaler\n",
    "n_epochs=1000\n",
    "learning_rate=0.01\n",
    "scaler = StandardScaler()\n",
    "scaled_housing_data = scaler.fit_transform(housing.data)\n",
    "scaled_housing_data_plus_bias = np.c_[np.ones((m, 1)), scaled_housing_data]\n",
    "\n",
    "X=tf.constant(scaled_housing_data_plus_bias,dtype=tf.float32,name=\"X\")\n",
    "y=tf.constant(housing.target.reshape(-1,1),dtype=tf.float32,name=\"y\")\n",
    "theta=tf.Variable(tf.random_uniform([n+1,1],-1.0,1.0),name=\"theta\")\n",
    "y_pred=tf.matmul(X,theta,name=\"y_pred\")\n",
    "error=y_pred-y\n",
    "mse=tf.reduce_mean(tf.square(error,name=\"mse\"))\n",
    "optimizer = tf.train.GradientDescentOptimizer(learning_rate=learning_rate) #this line is chaged\n",
    "training_op=optimizer.minimize(mse) #this line is changed\n",
    "init=tf.global_variables_initializer()\n",
    "\n",
    "with tf.Session() as sess:\n",
    "  sess.run(init)\n",
    "  for epoch in range(n_epochs):\n",
    "    if epoch %100==0:\n",
    "      print(\"Epoch\", epoch,\"MSE=\", mse.eval())\n",
    "    sess.run(training_op)\n",
    "  best_theta=theta.eval()\n",
    "    "
   ]
  },
  {
   "cell_type": "code",
   "execution_count": 57,
   "metadata": {
    "colab": {
     "base_uri": "https://localhost:8080/",
     "height": 170
    },
    "colab_type": "code",
    "id": "uolNrF67n-yp",
    "outputId": "3d7b1475-8c39-4cd9-89eb-70188fb01b5c"
   },
   "outputs": [
    {
     "name": "stdout",
     "output_type": "stream",
     "text": [
      "[[ 2.0685525 ]\n",
      " [ 0.9169245 ]\n",
      " [ 0.14235441]\n",
      " [-0.4169455 ]\n",
      " [ 0.42495525]\n",
      " [ 0.00294955]\n",
      " [-0.04318427]\n",
      " [-0.6458378 ]\n",
      " [-0.62599975]]\n"
     ]
    }
   ],
   "source": [
    "print(best_theta)"
   ]
  },
  {
   "cell_type": "code",
   "execution_count": 0,
   "metadata": {
    "colab": {},
    "colab_type": "code",
    "id": "q94klRmYoB-P"
   },
   "outputs": [],
   "source": [
    "\n"
   ]
  }
 ],
 "metadata": {
  "colab": {
   "collapsed_sections": [],
   "name": "Regression(housing_prices_using_tf).ipynb",
   "provenance": [],
   "version": "0.3.2"
  },
  "kernelspec": {
   "display_name": "Python 3",
   "language": "python",
   "name": "python3"
  },
  "language_info": {
   "codemirror_mode": {
    "name": "ipython",
    "version": 3
   },
   "file_extension": ".py",
   "mimetype": "text/x-python",
   "name": "python",
   "nbconvert_exporter": "python",
   "pygments_lexer": "ipython3",
   "version": "3.6.5"
  }
 },
 "nbformat": 4,
 "nbformat_minor": 1
}
